{
 "cells": [
  {
   "cell_type": "code",
   "execution_count": 1,
   "metadata": {},
   "outputs": [],
   "source": [
    "import pandas as pd\n",
    "import numpy as np"
   ]
  },
  {
   "cell_type": "code",
   "execution_count": 2,
   "metadata": {},
   "outputs": [
    {
     "data": {
      "text/html": [
       "<div>\n",
       "<style scoped>\n",
       "    .dataframe tbody tr th:only-of-type {\n",
       "        vertical-align: middle;\n",
       "    }\n",
       "\n",
       "    .dataframe tbody tr th {\n",
       "        vertical-align: top;\n",
       "    }\n",
       "\n",
       "    .dataframe thead th {\n",
       "        text-align: right;\n",
       "    }\n",
       "</style>\n",
       "<table border=\"1\" class=\"dataframe\">\n",
       "  <thead>\n",
       "    <tr style=\"text-align: right;\">\n",
       "      <th></th>\n",
       "      <th>release_date</th>\n",
       "      <th>title</th>\n",
       "      <th>length</th>\n",
       "      <th>score</th>\n",
       "      <th>sales</th>\n",
       "      <th>genre1</th>\n",
       "      <th>genre2</th>\n",
       "      <th>genre3</th>\n",
       "      <th>genre4</th>\n",
       "      <th>genre5</th>\n",
       "      <th>genre6</th>\n",
       "      <th>genre7</th>\n",
       "    </tr>\n",
       "  </thead>\n",
       "  <tbody>\n",
       "    <tr>\n",
       "      <th>0</th>\n",
       "      <td>1916</td>\n",
       "      <td>Intolerance</td>\n",
       "      <td>11</td>\n",
       "      <td>74</td>\n",
       "      <td>8</td>\n",
       "      <td>Drama</td>\n",
       "      <td>0</td>\n",
       "      <td>0</td>\n",
       "      <td>0</td>\n",
       "      <td>0</td>\n",
       "      <td>0</td>\n",
       "      <td>0</td>\n",
       "    </tr>\n",
       "    <tr>\n",
       "      <th>1</th>\n",
       "      <td>1925</td>\n",
       "      <td>The Big Parade</td>\n",
       "      <td>14</td>\n",
       "      <td>70</td>\n",
       "      <td>22</td>\n",
       "      <td>Drama</td>\n",
       "      <td>Romance</td>\n",
       "      <td>War</td>\n",
       "      <td>0</td>\n",
       "      <td>0</td>\n",
       "      <td>0</td>\n",
       "      <td>0</td>\n",
       "    </tr>\n",
       "    <tr>\n",
       "      <th>2</th>\n",
       "      <td>1927</td>\n",
       "      <td>Metropolis</td>\n",
       "      <td>10</td>\n",
       "      <td>80</td>\n",
       "      <td>0</td>\n",
       "      <td>Drama</td>\n",
       "      <td>Science Fiction</td>\n",
       "      <td>0</td>\n",
       "      <td>0</td>\n",
       "      <td>0</td>\n",
       "      <td>0</td>\n",
       "      <td>0</td>\n",
       "    </tr>\n",
       "    <tr>\n",
       "      <th>3</th>\n",
       "      <td>1929</td>\n",
       "      <td>Pandora's Box</td>\n",
       "      <td>13</td>\n",
       "      <td>76</td>\n",
       "      <td>0</td>\n",
       "      <td>Drama</td>\n",
       "      <td>Thriller</td>\n",
       "      <td>Romance</td>\n",
       "      <td>0</td>\n",
       "      <td>0</td>\n",
       "      <td>0</td>\n",
       "      <td>0</td>\n",
       "    </tr>\n",
       "    <tr>\n",
       "      <th>4</th>\n",
       "      <td>1929</td>\n",
       "      <td>The Broadway Melody</td>\n",
       "      <td>19</td>\n",
       "      <td>50</td>\n",
       "      <td>4</td>\n",
       "      <td>Drama</td>\n",
       "      <td>Music</td>\n",
       "      <td>Romance</td>\n",
       "      <td>0</td>\n",
       "      <td>0</td>\n",
       "      <td>0</td>\n",
       "      <td>0</td>\n",
       "    </tr>\n",
       "  </tbody>\n",
       "</table>\n",
       "</div>"
      ],
      "text/plain": [
       "   release_date                title  length  score  sales genre1  \\\n",
       "0          1916          Intolerance      11     74      8  Drama   \n",
       "1          1925       The Big Parade      14     70     22  Drama   \n",
       "2          1927           Metropolis      10     80      0  Drama   \n",
       "3          1929        Pandora's Box      13     76      0  Drama   \n",
       "4          1929  The Broadway Melody      19     50      4  Drama   \n",
       "\n",
       "            genre2   genre3 genre4 genre5 genre6 genre7  \n",
       "0                0        0      0      0      0      0  \n",
       "1          Romance      War      0      0      0      0  \n",
       "2  Science Fiction        0      0      0      0      0  \n",
       "3         Thriller  Romance      0      0      0      0  \n",
       "4            Music  Romance      0      0      0      0  "
      ]
     },
     "execution_count": 2,
     "metadata": {},
     "output_type": "execute_result"
    }
   ],
   "source": [
    "data = pd.read_csv(\"movies.csv\", sep=';')\n",
    "data.head()"
   ]
  },
  {
   "cell_type": "code",
   "execution_count": 3,
   "metadata": {},
   "outputs": [
    {
     "data": {
      "text/plain": [
       "(4393, 12)"
      ]
     },
     "execution_count": 3,
     "metadata": {},
     "output_type": "execute_result"
    }
   ],
   "source": [
    "data = data[data[\"release_date\"] >= 1985]\n",
    "data.shape"
   ]
  },
  {
   "cell_type": "code",
   "execution_count": 4,
   "metadata": {},
   "outputs": [
    {
     "data": {
      "text/plain": [
       "(2885, 12)"
      ]
     },
     "execution_count": 4,
     "metadata": {},
     "output_type": "execute_result"
    }
   ],
   "source": [
    "data = data[data[\"sales\"] > 0]\n",
    "data = data[data[\"length\"] > 0]\n",
    "data.shape"
   ]
  },
  {
   "cell_type": "code",
   "execution_count": 5,
   "metadata": {},
   "outputs": [],
   "source": [
    "data.drop(['genre2', 'genre3', 'genre4', 'genre5', 'genre6', 'genre7'], axis=1, inplace=True)"
   ]
  },
  {
   "cell_type": "code",
   "execution_count": 6,
   "metadata": {},
   "outputs": [
    {
     "data": {
      "text/html": [
       "<div>\n",
       "<style scoped>\n",
       "    .dataframe tbody tr th:only-of-type {\n",
       "        vertical-align: middle;\n",
       "    }\n",
       "\n",
       "    .dataframe tbody tr th {\n",
       "        vertical-align: top;\n",
       "    }\n",
       "\n",
       "    .dataframe thead th {\n",
       "        text-align: right;\n",
       "    }\n",
       "</style>\n",
       "<table border=\"1\" class=\"dataframe\">\n",
       "  <thead>\n",
       "    <tr style=\"text-align: right;\">\n",
       "      <th></th>\n",
       "      <th>release_date</th>\n",
       "      <th>title</th>\n",
       "      <th>length</th>\n",
       "      <th>score</th>\n",
       "      <th>sales</th>\n",
       "      <th>genre1</th>\n",
       "    </tr>\n",
       "  </thead>\n",
       "  <tbody>\n",
       "    <tr>\n",
       "      <th>0</th>\n",
       "      <td>1985</td>\n",
       "      <td>Witness</td>\n",
       "      <td>7</td>\n",
       "      <td>70</td>\n",
       "      <td>68</td>\n",
       "      <td>Crime</td>\n",
       "    </tr>\n",
       "    <tr>\n",
       "      <th>1</th>\n",
       "      <td>1985</td>\n",
       "      <td>The Last Dragon</td>\n",
       "      <td>15</td>\n",
       "      <td>64</td>\n",
       "      <td>25</td>\n",
       "      <td>Action</td>\n",
       "    </tr>\n",
       "    <tr>\n",
       "      <th>2</th>\n",
       "      <td>1985</td>\n",
       "      <td>Friday the 13th: A New Beginning</td>\n",
       "      <td>32</td>\n",
       "      <td>51</td>\n",
       "      <td>21</td>\n",
       "      <td>Horror</td>\n",
       "    </tr>\n",
       "    <tr>\n",
       "      <th>3</th>\n",
       "      <td>1985</td>\n",
       "      <td>Ladyhawke</td>\n",
       "      <td>9</td>\n",
       "      <td>68</td>\n",
       "      <td>18</td>\n",
       "      <td>Adventure</td>\n",
       "    </tr>\n",
       "    <tr>\n",
       "      <th>4</th>\n",
       "      <td>1985</td>\n",
       "      <td>Red Sonja</td>\n",
       "      <td>9</td>\n",
       "      <td>50</td>\n",
       "      <td>6</td>\n",
       "      <td>Adventure</td>\n",
       "    </tr>\n",
       "  </tbody>\n",
       "</table>\n",
       "</div>"
      ],
      "text/plain": [
       "   release_date                             title  length  score  sales  \\\n",
       "0          1985                           Witness       7     70     68   \n",
       "1          1985                   The Last Dragon      15     64     25   \n",
       "2          1985  Friday the 13th: A New Beginning      32     51     21   \n",
       "3          1985                         Ladyhawke       9     68     18   \n",
       "4          1985                         Red Sonja       9     50      6   \n",
       "\n",
       "      genre1  \n",
       "0      Crime  \n",
       "1     Action  \n",
       "2     Horror  \n",
       "3  Adventure  \n",
       "4  Adventure  "
      ]
     },
     "execution_count": 6,
     "metadata": {},
     "output_type": "execute_result"
    }
   ],
   "source": [
    "data.reset_index(inplace = True)\n",
    "data.drop(['index'], axis=1,inplace= True)\n",
    "data.head()"
   ]
  },
  {
   "cell_type": "code",
   "execution_count": 7,
   "metadata": {},
   "outputs": [
    {
     "data": {
      "text/html": [
       "<div>\n",
       "<style scoped>\n",
       "    .dataframe tbody tr th:only-of-type {\n",
       "        vertical-align: middle;\n",
       "    }\n",
       "\n",
       "    .dataframe tbody tr th {\n",
       "        vertical-align: top;\n",
       "    }\n",
       "\n",
       "    .dataframe thead th {\n",
       "        text-align: right;\n",
       "    }\n",
       "</style>\n",
       "<table border=\"1\" class=\"dataframe\">\n",
       "  <thead>\n",
       "    <tr style=\"text-align: right;\">\n",
       "      <th></th>\n",
       "      <th>year</th>\n",
       "      <th>title</th>\n",
       "      <th>length</th>\n",
       "      <th>score</th>\n",
       "      <th>sales</th>\n",
       "      <th>genre</th>\n",
       "    </tr>\n",
       "  </thead>\n",
       "  <tbody>\n",
       "    <tr>\n",
       "      <th>0</th>\n",
       "      <td>1985</td>\n",
       "      <td>Witness</td>\n",
       "      <td>7</td>\n",
       "      <td>70</td>\n",
       "      <td>68</td>\n",
       "      <td>Crime</td>\n",
       "    </tr>\n",
       "    <tr>\n",
       "      <th>1</th>\n",
       "      <td>1985</td>\n",
       "      <td>The Last Dragon</td>\n",
       "      <td>15</td>\n",
       "      <td>64</td>\n",
       "      <td>25</td>\n",
       "      <td>Action</td>\n",
       "    </tr>\n",
       "    <tr>\n",
       "      <th>2</th>\n",
       "      <td>1985</td>\n",
       "      <td>Friday the 13th: A New Beginning</td>\n",
       "      <td>32</td>\n",
       "      <td>51</td>\n",
       "      <td>21</td>\n",
       "      <td>Horror</td>\n",
       "    </tr>\n",
       "    <tr>\n",
       "      <th>3</th>\n",
       "      <td>1985</td>\n",
       "      <td>Ladyhawke</td>\n",
       "      <td>9</td>\n",
       "      <td>68</td>\n",
       "      <td>18</td>\n",
       "      <td>Adventure</td>\n",
       "    </tr>\n",
       "    <tr>\n",
       "      <th>4</th>\n",
       "      <td>1985</td>\n",
       "      <td>Red Sonja</td>\n",
       "      <td>9</td>\n",
       "      <td>50</td>\n",
       "      <td>6</td>\n",
       "      <td>Adventure</td>\n",
       "    </tr>\n",
       "  </tbody>\n",
       "</table>\n",
       "</div>"
      ],
      "text/plain": [
       "   year                             title  length  score  sales      genre\n",
       "0  1985                           Witness       7     70     68      Crime\n",
       "1  1985                   The Last Dragon      15     64     25     Action\n",
       "2  1985  Friday the 13th: A New Beginning      32     51     21     Horror\n",
       "3  1985                         Ladyhawke       9     68     18  Adventure\n",
       "4  1985                         Red Sonja       9     50      6  Adventure"
      ]
     },
     "execution_count": 7,
     "metadata": {},
     "output_type": "execute_result"
    }
   ],
   "source": [
    "data.columns = ['year', 'title', 'length','score', 'sales', 'genre']\n",
    "data.head()"
   ]
  },
  {
   "cell_type": "code",
   "execution_count": 8,
   "metadata": {},
   "outputs": [
    {
     "data": {
      "text/plain": [
       "Drama              639\n",
       "Comedy             598\n",
       "Action             542\n",
       "Adventure          246\n",
       "Horror             168\n",
       "Crime              121\n",
       "Thriller           115\n",
       "Animation           96\n",
       "Fantasy             88\n",
       "Romance             66\n",
       "Science Fiction     65\n",
       "Family              36\n",
       "Documentary         28\n",
       "Mystery             26\n",
       "Music               15\n",
       "War                 15\n",
       "History             13\n",
       "Western              8\n",
       "Name: genre, dtype: int64"
      ]
     },
     "execution_count": 8,
     "metadata": {},
     "output_type": "execute_result"
    }
   ],
   "source": [
    "data['genre'].value_counts()"
   ]
  },
  {
   "cell_type": "code",
   "execution_count": 9,
   "metadata": {},
   "outputs": [
    {
     "name": "stderr",
     "output_type": "stream",
     "text": [
      "c:\\users\\lynko\\appdata\\local\\programs\\python\\python36\\lib\\site-packages\\pandas\\core\\indexing.py:194: SettingWithCopyWarning: \n",
      "A value is trying to be set on a copy of a slice from a DataFrame\n",
      "\n",
      "See the caveats in the documentation: http://pandas.pydata.org/pandas-docs/stable/indexing.html#indexing-view-versus-copy\n",
      "  self._setitem_with_indexer(indexer, value)\n"
     ]
    }
   ],
   "source": [
    "data['genre'].loc[data['genre'] == 'War'] = \"Action\""
   ]
  },
  {
   "cell_type": "code",
   "execution_count": 10,
   "metadata": {},
   "outputs": [
    {
     "name": "stderr",
     "output_type": "stream",
     "text": [
      "c:\\users\\lynko\\appdata\\local\\programs\\python\\python36\\lib\\site-packages\\pandas\\core\\indexing.py:194: SettingWithCopyWarning: \n",
      "A value is trying to be set on a copy of a slice from a DataFrame\n",
      "\n",
      "See the caveats in the documentation: http://pandas.pydata.org/pandas-docs/stable/indexing.html#indexing-view-versus-copy\n",
      "  self._setitem_with_indexer(indexer, value)\n"
     ]
    }
   ],
   "source": [
    "data['genre'].loc[data['genre'] == 'Western'] = \"Action\""
   ]
  },
  {
   "cell_type": "code",
   "execution_count": 11,
   "metadata": {},
   "outputs": [
    {
     "name": "stderr",
     "output_type": "stream",
     "text": [
      "c:\\users\\lynko\\appdata\\local\\programs\\python\\python36\\lib\\site-packages\\pandas\\core\\indexing.py:194: SettingWithCopyWarning: \n",
      "A value is trying to be set on a copy of a slice from a DataFrame\n",
      "\n",
      "See the caveats in the documentation: http://pandas.pydata.org/pandas-docs/stable/indexing.html#indexing-view-versus-copy\n",
      "  self._setitem_with_indexer(indexer, value)\n"
     ]
    }
   ],
   "source": [
    "data['genre'].loc[data['genre'] == 'Animation'] = \"Family\""
   ]
  },
  {
   "cell_type": "code",
   "execution_count": 12,
   "metadata": {},
   "outputs": [
    {
     "name": "stderr",
     "output_type": "stream",
     "text": [
      "c:\\users\\lynko\\appdata\\local\\programs\\python\\python36\\lib\\site-packages\\pandas\\core\\indexing.py:194: SettingWithCopyWarning: \n",
      "A value is trying to be set on a copy of a slice from a DataFrame\n",
      "\n",
      "See the caveats in the documentation: http://pandas.pydata.org/pandas-docs/stable/indexing.html#indexing-view-versus-copy\n",
      "  self._setitem_with_indexer(indexer, value)\n"
     ]
    }
   ],
   "source": [
    "data['genre'].loc[data['genre'] == 'Mystery'] = \"Drama\""
   ]
  },
  {
   "cell_type": "code",
   "execution_count": 13,
   "metadata": {},
   "outputs": [
    {
     "name": "stderr",
     "output_type": "stream",
     "text": [
      "c:\\users\\lynko\\appdata\\local\\programs\\python\\python36\\lib\\site-packages\\pandas\\core\\indexing.py:194: SettingWithCopyWarning: \n",
      "A value is trying to be set on a copy of a slice from a DataFrame\n",
      "\n",
      "See the caveats in the documentation: http://pandas.pydata.org/pandas-docs/stable/indexing.html#indexing-view-versus-copy\n",
      "  self._setitem_with_indexer(indexer, value)\n"
     ]
    }
   ],
   "source": [
    "data['genre'].loc[data['genre'] == 'Music'] = \"Drama\""
   ]
  },
  {
   "cell_type": "code",
   "execution_count": 14,
   "metadata": {},
   "outputs": [
    {
     "name": "stderr",
     "output_type": "stream",
     "text": [
      "c:\\users\\lynko\\appdata\\local\\programs\\python\\python36\\lib\\site-packages\\pandas\\core\\indexing.py:194: SettingWithCopyWarning: \n",
      "A value is trying to be set on a copy of a slice from a DataFrame\n",
      "\n",
      "See the caveats in the documentation: http://pandas.pydata.org/pandas-docs/stable/indexing.html#indexing-view-versus-copy\n",
      "  self._setitem_with_indexer(indexer, value)\n"
     ]
    }
   ],
   "source": [
    "data['genre'].loc[data['genre'] == 'Science Fiction'] = \"Sci-Fi\""
   ]
  },
  {
   "cell_type": "code",
   "execution_count": 19,
   "metadata": {},
   "outputs": [
    {
     "data": {
      "text/html": [
       "<div>\n",
       "<style scoped>\n",
       "    .dataframe tbody tr th:only-of-type {\n",
       "        vertical-align: middle;\n",
       "    }\n",
       "\n",
       "    .dataframe tbody tr th {\n",
       "        vertical-align: top;\n",
       "    }\n",
       "\n",
       "    .dataframe thead th {\n",
       "        text-align: right;\n",
       "    }\n",
       "</style>\n",
       "<table border=\"1\" class=\"dataframe\">\n",
       "  <thead>\n",
       "    <tr style=\"text-align: right;\">\n",
       "      <th></th>\n",
       "      <th>year</th>\n",
       "      <th>title</th>\n",
       "      <th>length</th>\n",
       "      <th>score</th>\n",
       "      <th>sales</th>\n",
       "      <th>genre</th>\n",
       "    </tr>\n",
       "  </thead>\n",
       "  <tbody>\n",
       "    <tr>\n",
       "      <th>0</th>\n",
       "      <td>1985</td>\n",
       "      <td>Witness</td>\n",
       "      <td>7</td>\n",
       "      <td>70</td>\n",
       "      <td>68</td>\n",
       "      <td>Crime</td>\n",
       "    </tr>\n",
       "    <tr>\n",
       "      <th>1</th>\n",
       "      <td>1985</td>\n",
       "      <td>The Last Dragon</td>\n",
       "      <td>15</td>\n",
       "      <td>64</td>\n",
       "      <td>25</td>\n",
       "      <td>Action</td>\n",
       "    </tr>\n",
       "    <tr>\n",
       "      <th>2</th>\n",
       "      <td>1985</td>\n",
       "      <td>Friday the 13th: A New Beginning</td>\n",
       "      <td>32</td>\n",
       "      <td>51</td>\n",
       "      <td>21</td>\n",
       "      <td>Horror</td>\n",
       "    </tr>\n",
       "    <tr>\n",
       "      <th>3</th>\n",
       "      <td>1985</td>\n",
       "      <td>Ladyhawke</td>\n",
       "      <td>9</td>\n",
       "      <td>68</td>\n",
       "      <td>18</td>\n",
       "      <td>Adventure</td>\n",
       "    </tr>\n",
       "    <tr>\n",
       "      <th>4</th>\n",
       "      <td>1985</td>\n",
       "      <td>Red Sonja</td>\n",
       "      <td>9</td>\n",
       "      <td>50</td>\n",
       "      <td>6</td>\n",
       "      <td>Adventure</td>\n",
       "    </tr>\n",
       "    <tr>\n",
       "      <th>5</th>\n",
       "      <td>1985</td>\n",
       "      <td>The Return of the Living Dead</td>\n",
       "      <td>29</td>\n",
       "      <td>73</td>\n",
       "      <td>14</td>\n",
       "      <td>Comedy</td>\n",
       "    </tr>\n",
       "    <tr>\n",
       "      <th>6</th>\n",
       "      <td>1985</td>\n",
       "      <td>Rambo: First Blood Part II</td>\n",
       "      <td>26</td>\n",
       "      <td>63</td>\n",
       "      <td>300</td>\n",
       "      <td>Action</td>\n",
       "    </tr>\n",
       "    <tr>\n",
       "      <th>7</th>\n",
       "      <td>1985</td>\n",
       "      <td>A View to a Kill</td>\n",
       "      <td>16</td>\n",
       "      <td>60</td>\n",
       "      <td>152</td>\n",
       "      <td>Adventure</td>\n",
       "    </tr>\n",
       "    <tr>\n",
       "      <th>8</th>\n",
       "      <td>1985</td>\n",
       "      <td>Return to Oz</td>\n",
       "      <td>12</td>\n",
       "      <td>67</td>\n",
       "      <td>11</td>\n",
       "      <td>Adventure</td>\n",
       "    </tr>\n",
       "    <tr>\n",
       "      <th>9</th>\n",
       "      <td>1985</td>\n",
       "      <td>Pale Rider</td>\n",
       "      <td>10</td>\n",
       "      <td>70</td>\n",
       "      <td>41</td>\n",
       "      <td>Romance</td>\n",
       "    </tr>\n",
       "    <tr>\n",
       "      <th>10</th>\n",
       "      <td>1985</td>\n",
       "      <td>Mad Max Beyond Thunderdome</td>\n",
       "      <td>26</td>\n",
       "      <td>59</td>\n",
       "      <td>36</td>\n",
       "      <td>Action</td>\n",
       "    </tr>\n",
       "    <tr>\n",
       "      <th>11</th>\n",
       "      <td>1985</td>\n",
       "      <td>Back to the Future</td>\n",
       "      <td>18</td>\n",
       "      <td>80</td>\n",
       "      <td>381</td>\n",
       "      <td>Adventure</td>\n",
       "    </tr>\n",
       "    <tr>\n",
       "      <th>12</th>\n",
       "      <td>1985</td>\n",
       "      <td>Day of the Dead</td>\n",
       "      <td>15</td>\n",
       "      <td>69</td>\n",
       "      <td>34</td>\n",
       "      <td>Horror</td>\n",
       "    </tr>\n",
       "    <tr>\n",
       "      <th>13</th>\n",
       "      <td>1985</td>\n",
       "      <td>My Beautiful Laundrette</td>\n",
       "      <td>23</td>\n",
       "      <td>66</td>\n",
       "      <td>2</td>\n",
       "      <td>Romance</td>\n",
       "    </tr>\n",
       "    <tr>\n",
       "      <th>14</th>\n",
       "      <td>1985</td>\n",
       "      <td>Commando</td>\n",
       "      <td>8</td>\n",
       "      <td>64</td>\n",
       "      <td>57</td>\n",
       "      <td>Action</td>\n",
       "    </tr>\n",
       "    <tr>\n",
       "      <th>15</th>\n",
       "      <td>1985</td>\n",
       "      <td>A Nightmare on Elm Street Part 2: Freddy's Rev...</td>\n",
       "      <td>50</td>\n",
       "      <td>57</td>\n",
       "      <td>29</td>\n",
       "      <td>Horror</td>\n",
       "    </tr>\n",
       "    <tr>\n",
       "      <th>16</th>\n",
       "      <td>1985</td>\n",
       "      <td>A Room with a View</td>\n",
       "      <td>18</td>\n",
       "      <td>69</td>\n",
       "      <td>20</td>\n",
       "      <td>Drama</td>\n",
       "    </tr>\n",
       "    <tr>\n",
       "      <th>17</th>\n",
       "      <td>1985</td>\n",
       "      <td>The Color Purple</td>\n",
       "      <td>16</td>\n",
       "      <td>77</td>\n",
       "      <td>146</td>\n",
       "      <td>Drama</td>\n",
       "    </tr>\n",
       "    <tr>\n",
       "      <th>18</th>\n",
       "      <td>1985</td>\n",
       "      <td>Out of Africa</td>\n",
       "      <td>13</td>\n",
       "      <td>70</td>\n",
       "      <td>128</td>\n",
       "      <td>Drama</td>\n",
       "    </tr>\n",
       "    <tr>\n",
       "      <th>19</th>\n",
       "      <td>1986</td>\n",
       "      <td>Invaders from Mars</td>\n",
       "      <td>18</td>\n",
       "      <td>55</td>\n",
       "      <td>4</td>\n",
       "      <td>Sci-Fi</td>\n",
       "    </tr>\n",
       "  </tbody>\n",
       "</table>\n",
       "</div>"
      ],
      "text/plain": [
       "    year                                              title  length  score  \\\n",
       "0   1985                                            Witness       7     70   \n",
       "1   1985                                    The Last Dragon      15     64   \n",
       "2   1985                   Friday the 13th: A New Beginning      32     51   \n",
       "3   1985                                          Ladyhawke       9     68   \n",
       "4   1985                                          Red Sonja       9     50   \n",
       "5   1985                      The Return of the Living Dead      29     73   \n",
       "6   1985                         Rambo: First Blood Part II      26     63   \n",
       "7   1985                                   A View to a Kill      16     60   \n",
       "8   1985                                       Return to Oz      12     67   \n",
       "9   1985                                         Pale Rider      10     70   \n",
       "10  1985                         Mad Max Beyond Thunderdome      26     59   \n",
       "11  1985                                 Back to the Future      18     80   \n",
       "12  1985                                    Day of the Dead      15     69   \n",
       "13  1985                            My Beautiful Laundrette      23     66   \n",
       "14  1985                                           Commando       8     64   \n",
       "15  1985  A Nightmare on Elm Street Part 2: Freddy's Rev...      50     57   \n",
       "16  1985                                 A Room with a View      18     69   \n",
       "17  1985                                   The Color Purple      16     77   \n",
       "18  1985                                      Out of Africa      13     70   \n",
       "19  1986                                 Invaders from Mars      18     55   \n",
       "\n",
       "    sales      genre  \n",
       "0      68      Crime  \n",
       "1      25     Action  \n",
       "2      21     Horror  \n",
       "3      18  Adventure  \n",
       "4       6  Adventure  \n",
       "5      14     Comedy  \n",
       "6     300     Action  \n",
       "7     152  Adventure  \n",
       "8      11  Adventure  \n",
       "9      41    Romance  \n",
       "10     36     Action  \n",
       "11    381  Adventure  \n",
       "12     34     Horror  \n",
       "13      2    Romance  \n",
       "14     57     Action  \n",
       "15     29     Horror  \n",
       "16     20      Drama  \n",
       "17    146      Drama  \n",
       "18    128      Drama  \n",
       "19      4     Sci-Fi  "
      ]
     },
     "execution_count": 19,
     "metadata": {},
     "output_type": "execute_result"
    }
   ],
   "source": [
    "data.head(20)"
   ]
  },
  {
   "cell_type": "code",
   "execution_count": 16,
   "metadata": {},
   "outputs": [
    {
     "data": {
      "text/plain": [
       "Drama          680\n",
       "Comedy         598\n",
       "Action         565\n",
       "Adventure      246\n",
       "Horror         168\n",
       "Family         132\n",
       "Crime          121\n",
       "Thriller       115\n",
       "Fantasy         88\n",
       "Romance         66\n",
       "Sci-Fi          65\n",
       "Documentary     28\n",
       "History         13\n",
       "Name: genre, dtype: int64"
      ]
     },
     "execution_count": 16,
     "metadata": {},
     "output_type": "execute_result"
    }
   ],
   "source": [
    "data['genre'].value_counts()"
   ]
  },
  {
   "cell_type": "code",
   "execution_count": 17,
   "metadata": {},
   "outputs": [
    {
     "data": {
      "text/plain": [
       "(2885, 6)"
      ]
     },
     "execution_count": 17,
     "metadata": {},
     "output_type": "execute_result"
    }
   ],
   "source": [
    "data.shape"
   ]
  },
  {
   "cell_type": "code",
   "execution_count": 18,
   "metadata": {},
   "outputs": [],
   "source": [
    "data.to_csv(\"movies_processed.csv\", index=False)"
   ]
  }
 ],
 "metadata": {
  "kernelspec": {
   "display_name": "Python 3",
   "language": "python",
   "name": "python3"
  },
  "language_info": {
   "codemirror_mode": {
    "name": "ipython",
    "version": 3
   },
   "file_extension": ".py",
   "mimetype": "text/x-python",
   "name": "python",
   "nbconvert_exporter": "python",
   "pygments_lexer": "ipython3",
   "version": "3.6.4"
  }
 },
 "nbformat": 4,
 "nbformat_minor": 2
}
